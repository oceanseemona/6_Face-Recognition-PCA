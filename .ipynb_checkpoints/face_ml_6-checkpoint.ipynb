{
 "cells": [
  {
   "cell_type": "code",
   "execution_count": 1,
   "metadata": {},
   "outputs": [],
   "source": [
    "import numpy as np\n",
    "from matplotlib import pyplot as plt\n",
    "from PIL import Image\n",
    "from matplotlib import image\n",
    "import os"
   ]
  },
  {
   "cell_type": "code",
   "execution_count": 2,
   "metadata": {},
   "outputs": [],
   "source": [
    "#load images of size 112,92\n",
    "\n",
    "train_image_list=[]\n",
    "test_image_list=[]\n",
    "for i in range(1,41):\n",
    "    j=1\n",
    "    s = os.listdir('s'+str(i)+'/')\n",
    "     \n",
    "    for image in s:\n",
    "        if(j<=6):\n",
    "            im = Image.open('s'+str(i)+'/' + image)\n",
    "            train_image_list.append(np.asarray(im).flatten())\n",
    "        else:\n",
    "            im = Image.open('s'+str(i)+'/' + image)\n",
    "            test_image_list.append(np.asarray(im).flatten())\n",
    "        j+=1\n"
   ]
  },
  {
   "cell_type": "markdown",
   "metadata": {},
   "source": [
    "## Training "
   ]
  },
  {
   "cell_type": "code",
   "execution_count": 3,
   "metadata": {},
   "outputs": [
    {
     "name": "stdout",
     "output_type": "stream",
     "text": [
      "(10304, 240)\n"
     ]
    }
   ],
   "source": [
    "# 1. Generate the face dataset for training (60%)\n",
    "\n",
    "#Face_Db = image_list[:,0:6]\n",
    "Face_Db = np.array(train_image_list).T\n",
    "print(Face_Db.shape)"
   ]
  },
  {
   "cell_type": "code",
   "execution_count": 4,
   "metadata": {},
   "outputs": [
    {
     "name": "stdout",
     "output_type": "stream",
     "text": [
      "(10304, 1)\n"
     ]
    }
   ],
   "source": [
    "# 2. Mean Calculation\n",
    "\n",
    "mn,p = Face_Db.shape\n",
    "M = np.zeros((mn,1))\n",
    "for i in range(mn):\n",
    "        for j in range(p):\n",
    "            M[i] += Face_Db[i][j]\n",
    "        M[i] /= p\n",
    "print(M.shape)"
   ]
  },
  {
   "cell_type": "code",
   "execution_count": 5,
   "metadata": {},
   "outputs": [],
   "source": [
    "# 3. Do mean Zero\n",
    "\n",
    "delt = np.zeros((mn,p))\n",
    "for i in range(mn):\n",
    "    for j in range(p):\n",
    "        delt[i][j]=Face_Db[i][j]-M[i]"
   ]
  },
  {
   "cell_type": "code",
   "execution_count": 6,
   "metadata": {
    "scrolled": true
   },
   "outputs": [],
   "source": [
    "# 4. Cov of mean aligned faces (delt)\n",
    "def cov(d):\n",
    "    row,col=d.shape\n",
    "    covm = np.zeros((col,col))        \n",
    "    for z in range(col):\n",
    "        for y in range(col):\n",
    "            covm[z][y] = (1/row) * np.dot(d[:,y].T,d[:,z])                   \n",
    "    return covm\n"
   ]
  },
  {
   "cell_type": "code",
   "execution_count": 7,
   "metadata": {},
   "outputs": [
    {
     "name": "stdout",
     "output_type": "stream",
     "text": [
      "(240, 240)\n"
     ]
    }
   ],
   "source": [
    "cov_matrix = cov(delt)\n",
    "print(cov_matrix.shape)"
   ]
  },
  {
   "cell_type": "code",
   "execution_count": 8,
   "metadata": {},
   "outputs": [
    {
     "name": "stdout",
     "output_type": "stream",
     "text": [
      "...Eigen Values...\n",
      "(240, 240)\n",
      "\n",
      "...Eigen Vector...\n",
      "(240, 240)\n"
     ]
    }
   ],
   "source": [
    "# 5. Do eigenvalue and eigenvector decomposition (sorted)\n",
    "\n",
    "eigenValues, eigenVectors = np.linalg.eig(cov_matrix)\n",
    "idx = eigenValues.argsort()[::-1]   \n",
    "eigen_val = eigenValues[idx]\n",
    "eigen_vector = eigenVectors[:,idx]\n",
    "eigen_val = np.diag(eigen_val)\n",
    "print(\"...Eigen Values...\")\n",
    "print(eigen_val.shape)\n",
    "print()\n",
    "print(\"...Eigen Vector...\")\n",
    "print(eigen_vector.shape)"
   ]
  },
  {
   "cell_type": "code",
   "execution_count": 9,
   "metadata": {},
   "outputs": [
    {
     "name": "stdout",
     "output_type": "stream",
     "text": [
      "(240, 30)\n"
     ]
    }
   ],
   "source": [
    "# 6. Find the best direction (Generation of feature vectors)\n",
    "\n",
    "k=30\n",
    "Feature_vector = eigen_vector[:,0:k]\n",
    "print(Feature_vector.shape)"
   ]
  },
  {
   "cell_type": "code",
   "execution_count": 10,
   "metadata": {},
   "outputs": [
    {
     "name": "stdout",
     "output_type": "stream",
     "text": [
      "(30, 10304)\n"
     ]
    }
   ],
   "source": [
    "# 7. Generating Eigenfaces\n",
    "\n",
    "Eigen_faces = np.dot(Feature_vector.T,delt.T)\n",
    "print(Eigen_faces.shape)"
   ]
  },
  {
   "cell_type": "code",
   "execution_count": 11,
   "metadata": {},
   "outputs": [
    {
     "name": "stdout",
     "output_type": "stream",
     "text": [
      "(30, 240)\n"
     ]
    }
   ],
   "source": [
    "# 8. Generate Signature of Each Face\n",
    "\n",
    "Signature = np.dot(Eigen_faces,delt)\n",
    "print(Signature.shape)"
   ]
  },
  {
   "cell_type": "markdown",
   "metadata": {},
   "source": [
    "## Test"
   ]
  },
  {
   "cell_type": "code",
   "execution_count": 12,
   "metadata": {},
   "outputs": [
    {
     "name": "stdout",
     "output_type": "stream",
     "text": [
      "(10304,)\n"
     ]
    }
   ],
   "source": [
    "# 1. Make image list as a column vector\n",
    "\n",
    "#print(len(test_image_list))\n",
    "test1 = np.array(test_image_list[20])\n",
    "print(test1.shape)"
   ]
  },
  {
   "cell_type": "code",
   "execution_count": 13,
   "metadata": {},
   "outputs": [
    {
     "name": "stdout",
     "output_type": "stream",
     "text": [
      "(10304,)\n"
     ]
    }
   ],
   "source": [
    "# 2. Do mean Zero\n",
    "Mean_zero=np.zeros(len(test1))\n",
    "for i in range(len(test1)):\n",
    "    Mean_zero[i] = test1[i] - M[i]\n",
    "    \n",
    "print(Mean_zero.shape)"
   ]
  },
  {
   "cell_type": "code",
   "execution_count": 14,
   "metadata": {},
   "outputs": [
    {
     "name": "stdout",
     "output_type": "stream",
     "text": [
      "(30,)\n"
     ]
    }
   ],
   "source": [
    "# 3. Projected test face (signature)\n",
    "\n",
    "project = np.dot(Eigen_faces,Mean_zero)\n",
    "print(project.shape)"
   ]
  },
  {
   "cell_type": "code",
   "execution_count": 15,
   "metadata": {},
   "outputs": [],
   "source": [
    "# 4. Euclidean distance between projected test face & signature of each face\n",
    "\n",
    "def euclidean_dist(x1,x2):\n",
    "    dist = sum([(a - b) ** 2 for a, b in zip(x1, x2)])**0.5\n",
    "    return dist"
   ]
  },
  {
   "cell_type": "code",
   "execution_count": 16,
   "metadata": {},
   "outputs": [
    {
     "name": "stdout",
     "output_type": "stream",
     "text": [
      "1\n"
     ]
    }
   ],
   "source": [
    "min_dist = 999999999\n",
    "\n",
    "project_t=project.T\n",
    "Signature_t=Signature.T\n",
    "\n",
    "for i in range(len(project_t)):   \n",
    "    dist=euclidean_dist(Signature[i],project)\n",
    "    if(dist<min_dist):\n",
    "        min_dist=dist\n",
    "        label=i\n",
    "    i+=1\n",
    "    label=(label//6)+1 \n",
    "    \n",
    "print(label)"
   ]
  },
  {
   "cell_type": "code",
   "execution_count": 17,
   "metadata": {},
   "outputs": [],
   "source": [
    "def accuracy_rate(X,Y):\n",
    "    correct_count = 0\n",
    "    for i in range(len(X)):\n",
    "        if(X[i] == Y[i]):\n",
    "            correct_count = correct_count + 1\n",
    "    accuracy_val = (correct_count/len(X))*100\n",
    "    return accuracy_val"
   ]
  },
  {
   "cell_type": "code",
   "execution_count": 20,
   "metadata": {},
   "outputs": [
    {
     "name": "stdout",
     "output_type": "stream",
     "text": [
      "[2.5, 13.125, 36.875, 56.875, 71.875, 76.875, 81.875, 86.875, 86.25, 88.125, 88.75, 89.375, 90.0, 90.0, 90.625, 90.625, 91.25, 91.25, 91.875, 91.875, 92.5, 92.5, 92.5, 92.5, 92.5, 92.5, 92.5, 92.5, 92.5, 92.5, 92.5]\n"
     ]
    }
   ],
   "source": [
    "# true labels\n",
    "\n",
    "trueLabels = np.arange(0,160)\n",
    "trueLabels = (trueLabels//4)\n",
    "\n",
    "accuracy_curve = []\n",
    "\n",
    "Test_Face_Db = np.array(test_image_list).T \n",
    "\n",
    "# step 2 mean 0 for testing\n",
    "Iota_2 = np.zeros((Test_Face_Db.shape))\n",
    "mn,q = Test_Face_Db.shape\n",
    "\n",
    "for i in range(mn):\n",
    "    for j in range(q):\n",
    "        Iota_2[i][j] = Test_Face_Db[i][j] - M[i]\n",
    "\n",
    "Omega = np.dot(Eigen_faces,Iota_2)\n",
    "\n",
    "# column wise minimum distance calculation\n",
    "    # transposing both of them will makes things easier\n",
    "Omega_T = Omega.T\n",
    "omega_T = Signature.T\n",
    "\n",
    "for k in range(0,31):\n",
    "\n",
    "    #psi = eigen_vector[:,0:k]\n",
    "\n",
    "    # step 7 Generate Eigen Faces\n",
    "    #phi = np.dot(psi.T,delt.T)\n",
    "\n",
    "    # step 8 Generate Signature\n",
    "    #omega = np.dot(phi,delt)\n",
    "\n",
    "    # minimum distance\n",
    "    min_dist = 999999999\n",
    "\n",
    "    distances = [0]*q\n",
    "    classes = [0]*q\n",
    "\n",
    "    i = 0\n",
    "    for sign_test in Omega_T:\n",
    "        j = 0\n",
    "        for sign_train in omega_T:\n",
    "            dist = euclidean_dist(sign_test[0:k],sign_train[0:k])\n",
    "            if(dist < min_dist):\n",
    "                min_dist = dist\n",
    "                label = j\n",
    "            j+=1\n",
    "\n",
    "        distances[i] = min_dist\n",
    "        classes[i] = (label//6) # each person testset contains 4 images\n",
    "        i+=1\n",
    "        min_dist = 99999999\n",
    "\n",
    "    accuracy = accuracy_rate(trueLabels,classes)\n",
    "    accuracy_curve.append(accuracy)"
   ]
  },
  {
   "cell_type": "code",
   "execution_count": 21,
   "metadata": {},
   "outputs": [
    {
     "data": {
      "image/png": "[encoded data removed]",
      "text/plain": [
       "<Figure size 432x288 with 1 Axes>"
      ]
     },
     "metadata": {
      "needs_background": "light"
     },
     "output_type": "display_data"
    }
   ],
   "source": [
    "plt.plot(np.arange(0,31), accuracy_curve, color =\"blue\")  \n",
    "plt.title(\"Accuracy Curve\")  \n",
    "plt.xlabel(\"k\")  \n",
    "plt.ylabel(\"Accuracy Rate\") \n",
    "plt.show()"
   ]
  },
  {
   "cell_type": "code",
   "execution_count": null,
   "metadata": {},
   "outputs": [],
   "source": []
  },
  {
   "cell_type": "code",
   "execution_count": null,
   "metadata": {},
   "outputs": [],
   "source": []
  }
 ],
 "metadata": {
  "kernelspec": {
   "display_name": "Python 3",
   "language": "python",
   "name": "python3"
  },
  "language_info": {
   "codemirror_mode": {
    "name": "ipython",
    "version": 3
   },
   "file_extension": ".py",
   "mimetype": "text/x-python",
   "name": "python",
   "nbconvert_exporter": "python",
   "pygments_lexer": "ipython3",
   "version": "3.8.5"
  }
 },
 "nbformat": 4,
 "nbformat_minor": 4
}
